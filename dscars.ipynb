{
 "cells": [
  {
   "cell_type": "markdown",
   "metadata": {},
   "source": [
    "# Data Science with Cars\n",
    "This is a group project within the course Data Science at DHBW Stuttgart on data of cars. The group members are Felix Waldbach and Niklas Wolf.\n",
    "\n",
    "The observed dataset \"Auto-Mpg Data\" was taken from the StatLib library which ismaintained at Carnegie Mellon University. The dataset was used in the 1983 American Statistical Association Exposition.\n",
    "\n",
    "\"The data concerns city-cycle fuel consumption in miles per gallon, to be predicted in terms of 3 multivalued discrete and 5 continuous attributes.\" (Quinlan, 1993)\n",
    "\n",
    "**Tasks**:\n",
    "\n",
    "Part 1\n",
    "* Analyze given data with stasticial standard functions\n",
    "* **Diagrams** for visualization of correlation of the data, **Comment** to highlight interesting correlation\n",
    "\n",
    "Part 2\n",
    "* **Prediction** of horsepower with a given dataset without horsepower with **two different approaches**\n",
    "\n",
    "Part 3\n",
    "* **Classification** of a vehicle with a certain number of cylinders with the other data  with **two classification methods**\n",
    "\n",
    "Regarding Part 2 and 3\n",
    "* Validation and Testing of the Results with evaluation methods\n",
    "* Compare results and describe end result\n",
    "* Choose one approach \n",
    "* Optimize in maximum 3 iterations and comment on additional optimizations\n",
    "* Metho for inserting data and giving the result optically and logically"
   ]
  },
  {
   "cell_type": "markdown",
   "metadata": {},
   "source": [
    "### Reading the data"
   ]
  },
  {
   "cell_type": "code",
   "execution_count": 24,
   "metadata": {},
   "outputs": [],
   "source": [
    "import pandas as pd\n",
    "import numpy as np\n",
    "import matplotlib.pyplot as plt\n",
    "import seaborn as sns\n",
    "from sklearn.preprocessing import StandardScaler, LabelEncoder\n",
    "from sklearn.ensemble import RandomForestClassifier\n",
    "from sklearn.svm import SVC\n",
    "from sklearn.metrics import confusion_matrix, classification_report"
   ]
  },
  {
   "cell_type": "code",
   "execution_count": 25,
   "metadata": {},
   "outputs": [],
   "source": [
    "colnames = ['mpg','cylinders','displacement','horsepower','weight','acceleration','modelyear','origin','carname']\n",
    "# given data is separated by either 2 or more spaces or tabs, hence this separator\n",
    "df = pd.read_csv('auto-mpg.data-original',sep='\\t+|\\s\\s+', header=None, engine='python',names=colnames)"
   ]
  },
  {
   "cell_type": "markdown",
   "metadata": {},
   "source": [
    "### Analyzing the raw data"
   ]
  },
  {
   "cell_type": "markdown",
   "metadata": {},
   "source": [
    "#### MIssing values"
   ]
  },
  {
   "cell_type": "code",
   "execution_count": 26,
   "metadata": {
    "scrolled": false
   },
   "outputs": [
    {
     "name": "stdout",
     "output_type": "stream",
     "text": [
      "<class 'pandas.core.frame.DataFrame'>\n",
      "RangeIndex: 406 entries, 0 to 405\n",
      "Data columns (total 9 columns):\n",
      "mpg             398 non-null float64\n",
      "cylinders       406 non-null float64\n",
      "displacement    406 non-null float64\n",
      "horsepower      400 non-null float64\n",
      "weight          406 non-null float64\n",
      "acceleration    406 non-null float64\n",
      "modelyear       406 non-null float64\n",
      "origin          406 non-null float64\n",
      "carname         406 non-null object\n",
      "dtypes: float64(8), object(1)\n",
      "memory usage: 28.6+ KB\n"
     ]
    },
    {
     "data": {
      "text/html": [
       "<div>\n",
       "<style scoped>\n",
       "    .dataframe tbody tr th:only-of-type {\n",
       "        vertical-align: middle;\n",
       "    }\n",
       "\n",
       "    .dataframe tbody tr th {\n",
       "        vertical-align: top;\n",
       "    }\n",
       "\n",
       "    .dataframe thead th {\n",
       "        text-align: right;\n",
       "    }\n",
       "</style>\n",
       "<table border=\"1\" class=\"dataframe\">\n",
       "  <thead>\n",
       "    <tr style=\"text-align: right;\">\n",
       "      <th></th>\n",
       "      <th>mpg</th>\n",
       "      <th>cylinders</th>\n",
       "      <th>displacement</th>\n",
       "      <th>horsepower</th>\n",
       "      <th>weight</th>\n",
       "      <th>acceleration</th>\n",
       "      <th>modelyear</th>\n",
       "      <th>origin</th>\n",
       "      <th>carname</th>\n",
       "    </tr>\n",
       "  </thead>\n",
       "  <tbody>\n",
       "    <tr>\n",
       "      <th>0</th>\n",
       "      <td>18.0</td>\n",
       "      <td>8.0</td>\n",
       "      <td>307.0</td>\n",
       "      <td>130.0</td>\n",
       "      <td>3504.0</td>\n",
       "      <td>12.0</td>\n",
       "      <td>70.0</td>\n",
       "      <td>1.0</td>\n",
       "      <td>\"chevrolet chevelle malibu\"</td>\n",
       "    </tr>\n",
       "    <tr>\n",
       "      <th>1</th>\n",
       "      <td>15.0</td>\n",
       "      <td>8.0</td>\n",
       "      <td>350.0</td>\n",
       "      <td>165.0</td>\n",
       "      <td>3693.0</td>\n",
       "      <td>11.5</td>\n",
       "      <td>70.0</td>\n",
       "      <td>1.0</td>\n",
       "      <td>\"buick skylark 320\"</td>\n",
       "    </tr>\n",
       "    <tr>\n",
       "      <th>2</th>\n",
       "      <td>18.0</td>\n",
       "      <td>8.0</td>\n",
       "      <td>318.0</td>\n",
       "      <td>150.0</td>\n",
       "      <td>3436.0</td>\n",
       "      <td>11.0</td>\n",
       "      <td>70.0</td>\n",
       "      <td>1.0</td>\n",
       "      <td>\"plymouth satellite\"</td>\n",
       "    </tr>\n",
       "    <tr>\n",
       "      <th>3</th>\n",
       "      <td>16.0</td>\n",
       "      <td>8.0</td>\n",
       "      <td>304.0</td>\n",
       "      <td>150.0</td>\n",
       "      <td>3433.0</td>\n",
       "      <td>12.0</td>\n",
       "      <td>70.0</td>\n",
       "      <td>1.0</td>\n",
       "      <td>\"amc rebel sst\"</td>\n",
       "    </tr>\n",
       "    <tr>\n",
       "      <th>4</th>\n",
       "      <td>17.0</td>\n",
       "      <td>8.0</td>\n",
       "      <td>302.0</td>\n",
       "      <td>140.0</td>\n",
       "      <td>3449.0</td>\n",
       "      <td>10.5</td>\n",
       "      <td>70.0</td>\n",
       "      <td>1.0</td>\n",
       "      <td>\"ford torino\"</td>\n",
       "    </tr>\n",
       "  </tbody>\n",
       "</table>\n",
       "</div>"
      ],
      "text/plain": [
       "    mpg  cylinders  displacement  horsepower  weight  acceleration  modelyear  \\\n",
       "0  18.0        8.0         307.0       130.0  3504.0          12.0       70.0   \n",
       "1  15.0        8.0         350.0       165.0  3693.0          11.5       70.0   \n",
       "2  18.0        8.0         318.0       150.0  3436.0          11.0       70.0   \n",
       "3  16.0        8.0         304.0       150.0  3433.0          12.0       70.0   \n",
       "4  17.0        8.0         302.0       140.0  3449.0          10.5       70.0   \n",
       "\n",
       "   origin                      carname  \n",
       "0     1.0  \"chevrolet chevelle malibu\"  \n",
       "1     1.0          \"buick skylark 320\"  \n",
       "2     1.0         \"plymouth satellite\"  \n",
       "3     1.0              \"amc rebel sst\"  \n",
       "4     1.0                \"ford torino\"  "
      ]
     },
     "execution_count": 26,
     "metadata": {},
     "output_type": "execute_result"
    }
   ],
   "source": [
    "df.info()\n",
    "df.head()"
   ]
  },
  {
   "cell_type": "code",
   "execution_count": 27,
   "metadata": {},
   "outputs": [
    {
     "data": {
      "text/plain": [
       "mpg             8\n",
       "cylinders       0\n",
       "displacement    0\n",
       "horsepower      6\n",
       "weight          0\n",
       "acceleration    0\n",
       "modelyear       0\n",
       "origin          0\n",
       "carname         0\n",
       "dtype: int64"
      ]
     },
     "execution_count": 27,
     "metadata": {},
     "output_type": "execute_result"
    }
   ],
   "source": [
    "df.isnull().sum()"
   ]
  },
  {
   "cell_type": "markdown",
   "metadata": {},
   "source": [
    "From this first peak we can already see that there are missing values within the data. The value mpg is missing 8 times and the value horsepower is missing 6 times."
   ]
  },
  {
   "cell_type": "markdown",
   "metadata": {},
   "source": [
    "#### Some Visualizations"
   ]
  },
  {
   "cell_type": "code",
   "execution_count": null,
   "metadata": {},
   "outputs": [],
   "source": [
    "# adjusting jupyter plot size\n",
    "fig=plt.figure(figsize=(26, 18), dpi= 80, facecolor='w', edgecolor='k')\n",
    "\n",
    "# plot some of the interesting \n",
    "plt.subplot(4, 2, 1)\n",
    "df['mpg'].plot(kind='hist', bins=100)\n",
    "plt.xlabel('mpg')\n",
    "\n",
    "plt.subplot(4, 2, 2)\n",
    "df['cylinders'].plot(kind='hist', bins=100)\n",
    "plt.xlabel('cylinders')\n",
    "\n",
    "plt.subplot(4, 2, 3)\n",
    "df['displacement'].plot(kind='hist', bins=100)\n",
    "plt.xlabel('displacement')\n",
    "\n",
    "plt.subplot(4, 2, 4)\n",
    "df['horsepower'].plot(kind='hist', bins=100)\n",
    "plt.xlabel('horsepower')\n",
    "\n",
    "plt.subplot(4, 2, 5)\n",
    "df['weight'].plot(kind='hist', bins=100)\n",
    "plt.xlabel('weight')\n",
    "\n",
    "plt.subplot(4, 2, 6)\n",
    "df['acceleration'].plot(kind='hist', bins=100)\n",
    "plt.xlabel('acceleration')\n",
    "\n",
    "plt.subplot(4, 2, 7)\n",
    "df['modelyear'].plot(kind='hist', bins=100)\n",
    "plt.xlabel('modelyear')\n",
    "\n",
    "plt.subplot(4, 2, 8)\n",
    "df['origin'].plot(kind='hist', bins=100)\n",
    "plt.xlabel('origin')\n",
    "plt.show()"
   ]
  },
  {
   "cell_type": "markdown",
   "metadata": {},
   "source": [
    "In both horsepower and acceleration there seem to exist common values that occur more frequently. Cylinder values are with few exceptions mostly within the subset of {4,6,8}."
   ]
  },
  {
   "cell_type": "markdown",
   "metadata": {},
   "source": [
    "#### Description of the Dataset"
   ]
  },
  {
   "cell_type": "code",
   "execution_count": null,
   "metadata": {
    "scrolled": true
   },
   "outputs": [],
   "source": [
    "df.describe()"
   ]
  },
  {
   "cell_type": "markdown",
   "metadata": {},
   "source": [
    "#### Standard Deviation Coefficient"
   ]
  },
  {
   "cell_type": "code",
   "execution_count": null,
   "metadata": {},
   "outputs": [],
   "source": [
    "print(\"Standard Deviation Coefficient for mpg: {}\".format(df.describe()['mpg']['std'] / df.describe()['mpg']['mean']))\n",
    "print(\"Standard Deviation Coefficient for cylinders: {}\".format(df.describe()['cylinders']['std'] / df.describe()['cylinders']['mean']))\n",
    "print(\"Standard Deviation Coefficient for displacement: {}\".format(df.describe()['displacement']['std'] / df.describe()['displacement']['mean']))\n",
    "print(\"Standard Deviation Coefficient for horsepower: {}\".format(df.describe()['horsepower']['std'] / df.describe()['horsepower']['mean']))\n",
    "print(\"Standard Deviation Coefficient for weight: {}\".format(df.describe()['weight']['std'] / df.describe()['weight']['mean']))\n",
    "print(\"Standard Deviation Coefficient for acceleration: {}\".format(df.describe()['acceleration']['std'] / df.describe()['acceleration']['mean']))\n",
    "print(\"Standard Deviation Coefficient for modelyear: {}\".format(df.describe()['modelyear']['std'] / df.describe()['modelyear']['mean']))\n",
    "print(\"Standard Deviation Coefficient for origin: {}\".format(df.describe()['origin']['std'] / df.describe()['origin']['mean']))"
   ]
  },
  {
   "cell_type": "markdown",
   "metadata": {},
   "source": [
    "As you can see from the above data, most of the dimensions deviate around the same value of 30%. However, the origin and displacement deviate with around 50%. The origin probably deviates that high because it only has the values 1.,2.,3. As you can see on the figure above, most of the values are 1.0.\n",
    "Also, most of the displacement numbers are rather lower than higher, but they have a big span length."
   ]
  },
  {
   "cell_type": "code",
   "execution_count": null,
   "metadata": {},
   "outputs": [],
   "source": [
    "fig = plt.figure(figsize=(26, 26), dpi= 80, facecolor='w', edgecolor='k')\n",
    "\n",
    "plt.subplot(421)\n",
    "plt.scatter(df['mpg'], df['cylinders'])\n",
    "plt.xlabel('mpg')\n",
    "plt.ylabel('cylinders')\n",
    "\n",
    "plt.subplot(422)\n",
    "plt.scatter(df['mpg'], df['displacement'])\n",
    "plt.xlabel('mpg')\n",
    "plt.ylabel('displacement')\n",
    "\n",
    "plt.subplot(423)\n",
    "plt.scatter(df['mpg'], df['horsepower'])\n",
    "plt.xlabel('mpg')\n",
    "plt.ylabel('horsepower')\n",
    "\n",
    "plt.subplot(424)\n",
    "plt.scatter(df['mpg'], df['weight'])\n",
    "plt.xlabel('mpg')\n",
    "plt.ylabel('weight')\n",
    "\n",
    "plt.subplot(425)\n",
    "plt.scatter(df['mpg'], df['acceleration'])\n",
    "plt.xlabel('mpg')\n",
    "plt.ylabel('acceleration')\n",
    "\n",
    "plt.subplot(426)\n",
    "plt.scatter(df['mpg'], df['modelyear'])\n",
    "plt.xlabel('mpg')\n",
    "plt.ylabel('modelyear')\n",
    "\n",
    "plt.subplot(427)\n",
    "plt.scatter(df['mpg'], df['origin'])\n",
    "plt.xlabel('mpg')\n",
    "plt.ylabel('origin')\n",
    "\n",
    "plt.show()"
   ]
  },
  {
   "cell_type": "markdown",
   "metadata": {},
   "source": [
    "From the above figures you can tell the dependencies the miles per gallon values from the other values.\n",
    "\n",
    "Plot 1 indicates that a lower amount of cylinders tends to lead to higher amount of miles per gallon.\n",
    "\n",
    "Plot 2 indicates that a higher amount of displacements done by a car lead to a lower amount of miles per gallon.\n",
    "\n",
    "Plot 3 indicates that the same goes for horsepower.\n",
    "\n",
    "Plot 4 indicates that the same goes for weight\n",
    "\n",
    "Plot 5 indicates that it is rather hard to tell the mpg by acceleration. There are some extreme values in the dataset, the most values however are not very meaningful.\n",
    "\n",
    "Plot 6 shows that newer models have a tendency to have a higher mpg value\n",
    "\n",
    "Plot 7 shows that most values are centered and origins have around the same mpg value with a tendency to have extremes to lower mpg with lower origin value and higher mpg with higher origin value"
   ]
  },
  {
   "cell_type": "markdown",
   "metadata": {},
   "source": [
    "## Regression"
   ]
  },
  {
   "cell_type": "markdown",
   "metadata": {},
   "source": [
    "#### Data Preparation"
   ]
  },
  {
   "cell_type": "code",
   "execution_count": null,
   "metadata": {},
   "outputs": [],
   "source": [
    "from sklearn.model_selection import train_test_split\n",
    "from sklearn import preprocessing\n",
    "\n",
    "# we are predicting horsepower, so values with missing horsepower are useless for this case and we are dropping those\n",
    "reg_df = df.dropna(subset=['horsepower']).copy()\n",
    "X = reg_df [['mpg','cylinders','displacement','weight','acceleration','modelyear','origin']].copy()\n",
    "y = reg_df ['horsepower'].copy()\n",
    "\n",
    "# imputing values where NaN occures\n",
    "imp = preprocessing.Imputer(missing_values=0, strategy='mean', axis=0)\n",
    "X = imp.fit_transform(X)\n",
    "#print(np.where(np.isnan(X)))\n",
    "\n",
    "# Splitting the data into test and train data\n",
    "X_train, X_test, y_train, y_test = train_test_split(X,y,test_size=0.2,random_state=0)\n",
    "\n"
   ]
  },
  {
   "cell_type": "markdown",
   "metadata": {},
   "source": [
    "#### Fitting the Model"
   ]
  },
  {
   "cell_type": "code",
   "execution_count": null,
   "metadata": {},
   "outputs": [],
   "source": [
    "from sklearn.linear_model import LinearRegression\n",
    "\n",
    "# creating the model\n",
    "lr = LinearRegression(normalize=True)\n",
    "\n",
    "# fitting model to training data\n",
    "lr.fit(X_train, y_train)"
   ]
  },
  {
   "cell_type": "markdown",
   "metadata": {},
   "source": [
    "#### Evaluating the Results"
   ]
  },
  {
   "cell_type": "code",
   "execution_count": null,
   "metadata": {},
   "outputs": [],
   "source": [
    "\n",
    "# predicting for test data\n",
    "y_pred = lr.predict(X_test)\n",
    "# TODO.........\n",
    "\n",
    "fig = plt.figure(figsize=(23, 10), dpi= 80, facecolor='w', edgecolor='k')\n",
    "plt.subplot(121)\n",
    "plt.scatter(np.arange(len(y_pred)),y_pred)\n",
    "plt.scatter(np.arange(len(y_pred)),y_test)\n",
    "plt.vlines(np.arange(len(y_pred)),y_test,y_pred)\n",
    "plt.xlabel('dataset')\n",
    "plt.ylabel('horsepower')\n",
    "\n",
    "plt.subplot(122)\n",
    "plt.bar(np.arange(len(y_pred)),np.abs(y_pred-y_test))\n",
    "plt.xlabel('dataset')\n",
    "plt.ylabel('horsepower diff')\n",
    "\n",
    "plt.show()\n",
    "\n",
    "print(y_pred)\n",
    "print(y_test)"
   ]
  },
  {
   "cell_type": "markdown",
   "metadata": {},
   "source": [
    "## Classification"
   ]
  },
  {
   "cell_type": "markdown",
   "metadata": {},
   "source": [
    "For Classification we want to predict the number of cylinders of the data."
   ]
  },
  {
   "cell_type": "code",
   "execution_count": null,
   "metadata": {},
   "outputs": [],
   "source": [
    "df['cylinders'].value_counts()"
   ]
  },
  {
   "cell_type": "code",
   "execution_count": null,
   "metadata": {},
   "outputs": [],
   "source": [
    "sns.countplot(df['cylinders'])"
   ]
  },
  {
   "cell_type": "markdown",
   "metadata": {},
   "source": [
    "From inspecting the unique values of cylinders we can see that there are only 5 different options for the number of cylinders. Also the numbers 3 and 5 seem to be especially rare."
   ]
  },
  {
   "cell_type": "markdown",
   "metadata": {},
   "source": [
    "### Preparing the Data"
   ]
  },
  {
   "cell_type": "code",
   "execution_count": null,
   "metadata": {},
   "outputs": [],
   "source": [
    "X = df.drop(['cylinders','carname'],axis=1)\n",
    "y = df['cylinders']"
   ]
  },
  {
   "cell_type": "code",
   "execution_count": null,
   "metadata": {},
   "outputs": [],
   "source": [
    "# imputing values where NaN occures\n",
    "imp = preprocessing.Imputer(missing_values=0, strategy='mean', axis=0)\n",
    "X = imp.fit_transform(X)\n",
    "#print(np.where(np.isnan(X)))\n",
    "\n",
    "# Splitting the data into test and train data\n",
    "X_train, X_test, y_train, y_test = train_test_split(X,y,test_size=0.2,random_state=24)"
   ]
  },
  {
   "cell_type": "code",
   "execution_count": null,
   "metadata": {},
   "outputs": [],
   "source": [
    "sc = StandardScaler()\n",
    "X_train = sc.fit_transform(X_train)\n",
    "X_test = sc.transform(X_test)"
   ]
  },
  {
   "cell_type": "markdown",
   "metadata": {},
   "source": [
    "### Random Forest Classifier"
   ]
  },
  {
   "cell_type": "code",
   "execution_count": null,
   "metadata": {},
   "outputs": [],
   "source": [
    "rfc = RandomForestClassifier(n_estimators = 200)\n",
    "rfc.fit(X_train,y_train)\n",
    "y_pred_rfc = rfc.predict(X_test)"
   ]
  },
  {
   "cell_type": "code",
   "execution_count": null,
   "metadata": {},
   "outputs": [],
   "source": [
    "print(classification_report(y_test,y_pred_rfc))\n",
    "print(\"Confusion Matrix:\")\n",
    "print(confusion_matrix(y_test,y_pred_rfc))"
   ]
  },
  {
   "cell_type": "markdown",
   "metadata": {},
   "source": [
    "### SVM Classifier"
   ]
  },
  {
   "cell_type": "code",
   "execution_count": null,
   "metadata": {},
   "outputs": [],
   "source": [
    "clf = SVC()\n",
    "clf. fit(X_train,y_train)\n",
    "y_pred_clf = clf.predict(X_test)"
   ]
  },
  {
   "cell_type": "code",
   "execution_count": null,
   "metadata": {},
   "outputs": [],
   "source": [
    "print(classification_report(y_test,y_pred_clf))\n",
    "print(\"Confusion Matrix:\")\n",
    "print(confusion_matrix(y_test,y_pred_clf))"
   ]
  }
 ],
 "metadata": {
  "kernelspec": {
   "display_name": "Python 3",
   "language": "python",
   "name": "python3"
  },
  "language_info": {
   "codemirror_mode": {
    "name": "ipython",
    "version": 3
   },
   "file_extension": ".py",
   "mimetype": "text/x-python",
   "name": "python",
   "nbconvert_exporter": "python",
   "pygments_lexer": "ipython3",
   "version": "3.7.0"
  }
 },
 "nbformat": 4,
 "nbformat_minor": 2
}
